{
 "cells": [
  {
   "cell_type": "markdown",
   "id": "1d996bf0",
   "metadata": {},
   "source": [
    "### 해쉬 테이블 (Hash Table)\n",
    "\n",
    "1. 해쉬구조\n",
    "- Key에 Value를 저장하는 데이터 구조\n",
    "- Key를 통해 바로 데이터를 받아올 수 있으므로, 속도가 훨씬 빨라진다.\n",
    "- 파이썬의 딕셔너리라는 구조가 해쉬 테이블의 예임\n",
    "\n",
    "2. 용어\n",
    "- 해쉬(hash) : 임의 값을 고정 길이로 변환하는 것\n",
    "- 해쉬 테이블(hash table) : 키 값의 연산에 의해 직접 접근이 가능한 데이터 구조\n",
    "- 해싱 함수(hashing function) : key에 대해 산술 연산을 이용해 데이터 위치를 찾을 수 있는 함수\n",
    "- 해쉬 값 또는 해쉬 주소 : key를 해싱 함수로 연산 및 값을 알아낸후 key에 대한 데이터 위치를 일관성인게 탐색\n",
    "- 슬롯(slot) : 한개의 데이터를 저장할 수 있는 공간\n",
    "- 저장할 데이터에 대해 Key를 추출할 수 있는 별도 함수도 존재할 수 있다."
   ]
  },
  {
   "cell_type": "markdown",
   "id": "d2118504",
   "metadata": {},
   "source": [
    "### Hash Table 클래스 생성"
   ]
  },
  {
   "cell_type": "code",
   "execution_count": 3,
   "id": "031bf2f0",
   "metadata": {},
   "outputs": [],
   "source": [
    "public class MyHash {\n",
    "    public Slot[] hashTable;\n",
    "    \n",
    "    public MyHash(Integer size){\n",
    "        this.hashTable = new Slot[size];\n",
    "    }\n",
    "    \n",
    "    public class Slot{\n",
    "        String value;\n",
    "        Slot(String value){\n",
    "            this.value = value;\n",
    "        }\n",
    "    }\n",
    "}"
   ]
  },
  {
   "cell_type": "markdown",
   "id": "3faf9132",
   "metadata": {},
   "source": [
    "### 간단한 해쉬 함수 생성\n",
    "- Division 기법 : 나누기를 통해 나머지 값 사용하기 "
   ]
  },
  {
   "cell_type": "code",
   "execution_count": 9,
   "id": "d8477205",
   "metadata": {},
   "outputs": [
    {
     "data": {
      "text/plain": [
       "8"
      ]
     },
     "execution_count": 9,
     "metadata": {},
     "output_type": "execute_result"
    }
   ],
   "source": [
    "String name = \"Dev_HyunWoo\";\n",
    "name.charAt(5); // 문자\n",
    "(int)(name.charAt(0)); // 아스키 코드\n",
    "(int)(name.charAt(0)) % 20 // 임의로 해시함수 생성 -> 해쉬주소출력 "
   ]
  },
  {
   "cell_type": "code",
   "execution_count": 10,
   "id": "3f097981",
   "metadata": {},
   "outputs": [],
   "source": [
    "public class MyHash {\n",
    "    public Slot[] hashTable;\n",
    "    \n",
    "    public MyHash(Integer size) {\n",
    "        this.hashTable = new Slot[size];\n",
    "    }\n",
    "    \n",
    "    public class Slot {\n",
    "        String value;\n",
    "        Slot(String value) {\n",
    "            this.value = value;\n",
    "        }\n",
    "    }\n",
    "    \n",
    "    // 해쉬함수 추가\n",
    "    public int hashFunc(String key) {\n",
    "        return (int)(key.charAt(0)) % this.hashTable.length;\n",
    "    }\n",
    "}"
   ]
  },
  {
   "cell_type": "code",
   "execution_count": 13,
   "id": "f2485fd2",
   "metadata": {},
   "outputs": [
    {
     "name": "stdout",
     "output_type": "stream",
     "text": [
      "REPL.$JShell$27$Slot@20641923\n",
      "hello\n"
     ]
    }
   ],
   "source": [
    "public class Slot {\n",
    "    String value;\n",
    "    Slot(String value) {\n",
    "        this.value = value;\n",
    "    }\n",
    "}\n",
    "\n",
    "Slot[] hashTable = new Slot[20];\n",
    "hashTable[0] = new Slot(\"hello\");\n",
    "System.out.println(hashTable[0]);\n",
    "System.out.println(hashTable[0].value);"
   ]
  },
  {
   "cell_type": "code",
   "execution_count": 15,
   "id": "65be5f0c",
   "metadata": {},
   "outputs": [],
   "source": [
    "public class MyHash {\n",
    "    public Slot[] hashTable;\n",
    "    \n",
    "    public MyHash(Integer size) {\n",
    "        this.hashTable = new Slot[size];\n",
    "    }\n",
    "    \n",
    "    public class Slot {\n",
    "        String value;\n",
    "        Slot(String value) {\n",
    "            this.value = value;\n",
    "        }\n",
    "    }\n",
    "    \n",
    "    // 해쉬함수 추가\n",
    "    public int hashFunc(String key) {\n",
    "        return (int)(key.charAt(0)) % this.hashTable.length;\n",
    "    }\n",
    "    \n",
    "    // 데이터를 저장하는 메서드 추가\n",
    "    public boolean saveData(String key, String value){\n",
    "        Integer address = this.hashFunc(key);\n",
    "        if (this.hashTable[address] != null){\n",
    "            this.hashTable[address].value = value;\n",
    "        } else {\n",
    "            this.hashTable[address] = new Slot(value);\n",
    "        }\n",
    "        return true;\n",
    "    }\n",
    "}"
   ]
  },
  {
   "cell_type": "markdown",
   "id": "8ae11178",
   "metadata": {},
   "source": [
    "### 해쉬 테이블에 데이터 저장부터 조회 -> 하지만 해당 알고리즘은 문제가 있음!"
   ]
  },
  {
   "cell_type": "code",
   "execution_count": 42,
   "id": "9c3dff51",
   "metadata": {},
   "outputs": [],
   "source": [
    "public class MyHash {\n",
    "    public Slot[] hashTable;\n",
    "    \n",
    "    public MyHash(Integer size) {\n",
    "        this.hashTable = new Slot[size];\n",
    "    }\n",
    "    \n",
    "    public class Slot {\n",
    "        String value;\n",
    "        Slot(String value) {\n",
    "            this.value = value;\n",
    "        }\n",
    "    }\n",
    "    \n",
    "    // 해쉬함수 추가\n",
    "    public int hashFunc(String key) {\n",
    "        return (int)(key.charAt(0)) % this.hashTable.length;\n",
    "    }\n",
    "    \n",
    "    // 데이터를 저장하는 메서드 추가\n",
    "    public boolean saveData(String key, String value){\n",
    "        Integer address = this.hashFunc(key);\n",
    "        if (this.hashTable[address] != null){\n",
    "            this.hashTable[address].value = value;\n",
    "        } else {\n",
    "            this.hashTable[address] = new Slot(value);\n",
    "        }\n",
    "        return true;\n",
    "    }\n",
    "    \n",
    "    // 데이터를 가져오는 메서드 추가\n",
    "    public String getData(String key){\n",
    "        Integer address = this.hashFunc(key);\n",
    "        if (this.hashTable[address] != null) {\n",
    "            return this.hashTable[address].value;\n",
    "        } else {\n",
    "            return null;\n",
    "        }\n",
    "    }\n",
    "}"
   ]
  },
  {
   "cell_type": "code",
   "execution_count": 43,
   "id": "9a1c8865",
   "metadata": {},
   "outputs": [
    {
     "data": {
      "text/plain": [
       "01012345679"
      ]
     },
     "execution_count": 43,
     "metadata": {},
     "output_type": "execute_result"
    }
   ],
   "source": [
    "MyHash mainObject = new MyHash(20);\n",
    "mainObject.saveData(\"DevHyunWoo\", \"01012345678\");\n",
    "mainObject.saveData(\"DevJangMin\", \"01012345679\");\n",
    "\n",
    "mainObject.getData(\"DevHyunWoo\");"
   ]
  }
 ],
 "metadata": {
  "kernelspec": {
   "display_name": "Java",
   "language": "java",
   "name": "java"
  },
  "language_info": {
   "codemirror_mode": "java",
   "file_extension": ".jshell",
   "mimetype": "text/x-java-source",
   "name": "Java",
   "pygments_lexer": "java",
   "version": "18.0.1+10-24"
  }
 },
 "nbformat": 4,
 "nbformat_minor": 5
}
