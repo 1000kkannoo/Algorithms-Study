{
 "cells": [
  {
   "cell_type": "markdown",
   "id": "9c4763b7",
   "metadata": {},
   "source": [
    "### 꼭 알아둬야 할 자료구조: 배열 (Array)"
   ]
  },
  {
   "cell_type": "markdown",
   "id": "5cf7f764",
   "metadata": {},
   "source": [
    "- 데이터를 나열하고, 각 데이터를 인덱스에 대응하도록 구성한 데이터 구조"
   ]
  },
  {
   "cell_type": "markdown",
   "id": "2e69bded",
   "metadata": {},
   "source": [
    "## 1. 배열이 왜 필요할까?\n",
    "- 같은 종류의 데이터를 효율적으로 관리하기 위해 사용\n",
    "- 같은 종류의 데이터를 순차적으로 저장"
   ]
  },
  {
   "cell_type": "markdown",
   "id": "d15b7d88",
   "metadata": {},
   "source": [
    "- 배열의 장점:\n",
    "    - 빠른 접근가능\n",
    "- 배열의 단점:\n",
    "    - 연관된 데이터의 추가가 어려움\n",
    "    - 데이터가 가변적이라면, 추가하거나 삭제할때 데이터를 뒤로 당기거나 따로 마련해서 배열을 생성해야함, 추가/삭제가 쉽지않음\n",
    "    - 미리 최대 길이를 지정해야함"
   ]
  },
  {
   "cell_type": "markdown",
   "id": "7df42b93",
   "metadata": {},
   "source": [
    "## 2. JAVA와 배열"
   ]
  },
  {
   "cell_type": "markdown",
   "id": "b5fcea4d",
   "metadata": {},
   "source": [
    "- 1차원 배열은 []를 통해 선언할 수 있음\n",
    "- 각 아이템은 {} 내에 콤마로 작성"
   ]
  },
  {
   "cell_type": "code",
   "execution_count": 13,
   "id": "bcc64ae3",
   "metadata": {},
   "outputs": [
    {
     "name": "stdout",
     "output_type": "stream",
     "text": [
      "1\n",
      "null\n"
     ]
    }
   ],
   "source": [
    "Integer[] data_list = new Integer[10];\n",
    "data_list[0] = 1;\n",
    "\n",
    "System.out.println(data_list[0]);\n",
    "System.out.println(data_list[2]);"
   ]
  },
  {
   "cell_type": "code",
   "execution_count": 35,
   "id": "13ee127c",
   "metadata": {},
   "outputs": [
    {
     "name": "stdout",
     "output_type": "stream",
     "text": [
      "1\n",
      "5\n",
      "[1, 2, 3, 4, 5]\n"
     ]
    },
    {
     "data": {
      "text/plain": [
       "2"
      ]
     },
     "execution_count": 35,
     "metadata": {},
     "output_type": "execute_result"
    }
   ],
   "source": [
    "Integer data_list1[] = {5,4,3,2,1};\n",
    "Integer[] data_list2 = {1,2,3,4,5};\n",
    "ArrayList<Integer> list1 = new ArrayList<>(); // 가변길이의 배열\n",
    "\n",
    "System.out.println(data_list2[0]);\n",
    "System.out.println(data_list1[0]);\n",
    "System.out.println(Arrays.toString(data_list2));\n",
    "\n",
    "list1.add(1); // 리스트에 데이터 추가\n",
    "list1.add(2);\n",
    "list1.set(0,5); // 해당 인덱스 데이터 변경\n",
    "list1.remove(0); // 해당 인덱스 데이터 제거\n",
    "list1.size(); // 리스트 사이즈\n",
    "list1.get(0);"
   ]
  },
  {
   "cell_type": "code",
   "execution_count": 48,
   "id": "9b6c5cd2",
   "metadata": {},
   "outputs": [
    {
     "name": "stdout",
     "output_type": "stream",
     "text": [
      "2\n",
      "5\n"
     ]
    }
   ],
   "source": [
    "Integer data_list[][] = {{1,2,3},{4,5,6}};\n",
    "\n",
    "System.out.println(data_list[0][1]);\n",
    "System.out.println(data_list[1][1]);"
   ]
  },
  {
   "cell_type": "markdown",
   "id": "0035c374",
   "metadata": {},
   "source": [
    "### 연습문제 1"
   ]
  },
  {
   "cell_type": "code",
   "execution_count": 49,
   "id": "55ce5d08",
   "metadata": {},
   "outputs": [
    {
     "name": "stdout",
     "output_type": "stream",
     "text": [
      "8\n",
      "10\n",
      "2\n"
     ]
    }
   ],
   "source": [
    "Integer[][][] data_list = {\n",
    "    {\n",
    "        {1,2,3},\n",
    "        {4,5,6}\n",
    "    },\n",
    "    {\n",
    "        {7,8,9},\n",
    "        {10,11,12}\n",
    "    }\n",
    "};\n",
    "\n",
    "System.out.println(data_list[1][0][1]);\n",
    "System.out.println(data_list[1][1][0]);\n",
    "System.out.println(data_list[0][0][1]);"
   ]
  },
  {
   "cell_type": "markdown",
   "id": "cbef01cf",
   "metadata": {},
   "source": [
    "### 연습문제 2"
   ]
  },
  {
   "cell_type": "code",
   "execution_count": 52,
   "id": "61830938",
   "metadata": {},
   "outputs": [
    {
     "name": "stdout",
     "output_type": "stream",
     "text": [
      "30\n"
     ]
    }
   ],
   "source": [
    "String dataset[] = {\n",
    "    \"Braund, Mr. Owen Harris\",\n",
    "    \"Cumings, Mrs. John Bradley (Florence Briggs Thayer)\",\n",
    "    \"Heikkinen, Miss. Laina\",\n",
    "    \"Futrelle, Mrs. Jacques Heath (Lily May Peel)\",\n",
    "    \"Allen, Mr. William Henry\",\n",
    "    \"Moran, Mr. James\",\n",
    "    \"McCarthy, Mr. Timothy J\",\n",
    "    \"Palsson, Master. Gosta Leonard\",\n",
    "    \"Johnson, Mrs. Oscar W (Elisabeth Vilhelmina Berg)\",\n",
    "    \"Nasser, Mrs. Nicholas (Adele Achem)\",\n",
    "    \"Sandstrom, Miss. Marguerite Rut\",\n",
    "    \"Bonnell, Miss. Elizabeth\",\n",
    "    \"Saundercock, Mr. William Henry\",\n",
    "    \"Andersson, Mr. Anders Johan\",\n",
    "    \"Vestrom, Miss. Hulda Amanda Adolfina\",\n",
    "    \"Hewlett, Mrs. (Mary D Kingcome) \",\n",
    "    \"Rice, Master. Eugene\",\n",
    "    \"Williams, Mr. Charles Eugene\",\n",
    "    \"Vander Planke, Mrs. Julius (Emelia Maria Vandemoortele)\",\n",
    "    \"Masselmani, Mrs. Fatima\",\n",
    "    \"Fynney, Mr. Joseph J\",\n",
    "    \"Beesley, Mr. Lawrence\",\n",
    "    \"McGowan, Miss. Anna\",\n",
    "    \"Sloper, Mr. William Thompson\",\n",
    "    \"Palsson, Miss. Torborg Danira\",\n",
    "    \"Asplund, Mrs. Carl Oscar (Selma Augusta Emilia Johansson)\",\n",
    "    \"Emir, Mr. Farred Chehab\",\n",
    "    \"Fortune, Mr. Charles Alexander\",\n",
    "    \"Dwyer, Miss. Ellen\",\n",
    "    \"Todoroff, Mr. Lalio\"\n",
    "};\n",
    "\n",
    "Integer count = 0;\n",
    "\n",
    "for (int i = 0; i < dataset.length; i++){\n",
    "    if (dataset[i].indexOf(\"M\") >= 0){\n",
    "    count++;\n",
    "    }\n",
    "}\n",
    "\n",
    "System.out.println(count);"
   ]
  }
 ],
 "metadata": {
  "kernelspec": {
   "display_name": "Java",
   "language": "java",
   "name": "java"
  },
  "language_info": {
   "codemirror_mode": "java",
   "file_extension": ".jshell",
   "mimetype": "text/x-java-source",
   "name": "Java",
   "pygments_lexer": "java",
   "version": "18.0.1+10-24"
  }
 },
 "nbformat": 4,
 "nbformat_minor": 5
}
