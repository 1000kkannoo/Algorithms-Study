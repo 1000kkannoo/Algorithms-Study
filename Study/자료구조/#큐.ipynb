{
 "cells": [
  {
   "cell_type": "markdown",
   "id": "1bd353bf",
   "metadata": {},
   "source": [
    "## 큐 (Queue)\n",
    "\n",
    "- 가장 먼저 넣은 데이터를 가장 먼저 꺼낼 수 있는 데이터 구조이다.\n",
    "    - FIFO, LILO 방식 / 스택과 꺼내는 순서가 반대이다.\n",
    "    \n",
    "### Enqueue, Dequeue\n",
    "- Enqueue는 데이터를 넣는 행위\n",
    "- Dequeue는 데이터를 꺼내는 행위\n",
    "\n",
    "### JAVA\n",
    "- 자바에서는 util 패키지에 클래스 제공중\n",
    "- add(value), offer(value) / poll(), remove()\n",
    "- Queue 데이터 생성하려면 LinkedList 클래스를 사용해야한다."
   ]
  },
  {
   "cell_type": "code",
   "execution_count": 7,
   "id": "951348d7",
   "metadata": {},
   "outputs": [
    {
     "name": "stdout",
     "output_type": "stream",
     "text": [
      "[1, 2]\n",
      "[]\n"
     ]
    }
   ],
   "source": [
    "Queue<Integer> queueInt = new LinkedList<Integer>();\n",
    "Queue<String> queueStr = new LinkedList<String>();\n",
    "\n",
    "queueInt.add(1);\n",
    "queueInt.offer(2);\n",
    "\n",
    "System.out.println(queueInt);\n",
    "\n",
    "queueInt.poll();\n",
    "\n",
    "queueInt.remove();\n",
    "\n",
    "System.out.println(queueInt);"
   ]
  },
  {
   "cell_type": "markdown",
   "id": "15779e3f",
   "metadata": {},
   "source": [
    "### 연습문제1"
   ]
  },
  {
   "cell_type": "code",
   "execution_count": 8,
   "id": "89463162",
   "metadata": {},
   "outputs": [],
   "source": [
    "public class MyQueue<T>{\n",
    "    private ArrayList<T> queue = new ArrayList<T>();\n",
    "    \n",
    "    // ArrayList의 add를 이용한 enqueue 구현\n",
    "    public void enqueue(T item){\n",
    "        queue.add(item);\n",
    "    }\n",
    "    \n",
    "    // ArrayList의 remove를 이용한 dequeue 구현\n",
    "    public T dequeue(){\n",
    "    if (queue.isEmpty()){\n",
    "        return null;\n",
    "        }\n",
    "        return queue.remove(0);\n",
    "    }\n",
    "\n",
    "    public static void main(String[] args){\n",
    "        MyQueue<Integer> mq = new MyQueue<Integer>();\n",
    "        mq.enqueue(1);\n",
    "        mq.enqueue(2);\n",
    "        mq.enqueue(3);\n",
    "        System.out.println(mq.dequeue());\n",
    "        System.out.println(mq.dequeue());\n",
    "        System.out.println(mq.dequeue());\n",
    "    }\n",
    "}"
   ]
  },
  {
   "cell_type": "code",
   "execution_count": 9,
   "id": "1d519bf6",
   "metadata": {},
   "outputs": [
    {
     "name": "stdout",
     "output_type": "stream",
     "text": [
      "1\n",
      "2\n",
      "3\n"
     ]
    }
   ],
   "source": [
    "MyQueue.main(new String[0]);"
   ]
  }
 ],
 "metadata": {
  "kernelspec": {
   "display_name": "Java",
   "language": "java",
   "name": "java"
  },
  "language_info": {
   "codemirror_mode": "java",
   "file_extension": ".jshell",
   "mimetype": "text/x-java-source",
   "name": "Java",
   "pygments_lexer": "java",
   "version": "18.0.1+10-24"
  }
 },
 "nbformat": 4,
 "nbformat_minor": 5
}
