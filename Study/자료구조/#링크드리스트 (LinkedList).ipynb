{
 "cells": [
  {
   "cell_type": "markdown",
   "id": "1a9d4183",
   "metadata": {},
   "source": [
    "### 링크드 리스트 (LinkedList)\n",
    "\n",
    "- 연결 리스트\n",
    "- 배열은 순차적으로 연결된 공간에 데이터를 나열하는 데이터 구조\n",
    "- 링크드 리스트는 떨어진 곳에 존재하는 데이터를 화살표로 연결해서 관리하는 데이터구조\n",
    "- 배열의 단점을 극복한 데이터 구조라고도 볼 수 있음\n",
    "- 배열과 다르게 데이터를 계속해서 추가가 가능\n",
    "\n",
    "#### LinkedList의 용어\n",
    "- 노드(node) : 데이터 저장 단위 (데이터 값, 포인터)\n",
    "- 포인터(pointer) : 각 노드 안에서, 다음이나 이전의 노드와의 연결 정보를 가지고 있는 공간"
   ]
  },
  {
   "cell_type": "markdown",
   "id": "688d0d8f",
   "metadata": {},
   "source": [
    "### Node 클래스 구현해보기"
   ]
  },
  {
   "cell_type": "code",
   "execution_count": 1,
   "id": "83902e8c",
   "metadata": {},
   "outputs": [],
   "source": [
    "public class Node<T> {\n",
    "    T data;\n",
    "    Node<T> next = null;\n",
    "    \n",
    "    public Node(T data){\n",
    "        this.data = data;\n",
    "    }\n",
    "}"
   ]
  },
  {
   "cell_type": "markdown",
   "id": "b8af48ea",
   "metadata": {},
   "source": [
    "### Node와 Node 연결"
   ]
  },
  {
   "cell_type": "code",
   "execution_count": 3,
   "id": "3c6baf22",
   "metadata": {},
   "outputs": [],
   "source": [
    "Node<Integer> node1 = new Node<Integer>(10);\n",
    "Node<Integer> node2 = new Node<Integer>(20);\n",
    "\n",
    "node1.next = node2;\n",
    "Node<Integer> head = node1;"
   ]
  },
  {
   "cell_type": "markdown",
   "id": "79be3589",
   "metadata": {},
   "source": [
    "### LinkedList에 데이터 추가"
   ]
  },
  {
   "cell_type": "code",
   "execution_count": 8,
   "id": "921aef00",
   "metadata": {},
   "outputs": [],
   "source": [
    "public class SingleLinkedList<T>{\n",
    "    public Node<T> head = null;\n",
    "    \n",
    "    public class Node<T> {\n",
    "        T data;\n",
    "        Node<T> next = null;\n",
    "    \n",
    "        public Node(T data){\n",
    "            this.data = data;\n",
    "        }\n",
    "    }\n",
    "\n",
    "    public void addNode(T data){\n",
    "        if (head == null){\n",
    "            head = new Node<T>(data);\n",
    "        } else {\n",
    "            Node<T> node = this.head;\n",
    "            while (node.next != null){\n",
    "                node = node.next;\n",
    "            }\n",
    "            node.next =new Node<T>(data);\n",
    "        }\n",
    "    }\n",
    "}"
   ]
  },
  {
   "cell_type": "code",
   "execution_count": 14,
   "id": "c80b6628",
   "metadata": {},
   "outputs": [
    {
     "data": {
      "text/plain": [
       "2"
      ]
     },
     "execution_count": 14,
     "metadata": {},
     "output_type": "execute_result"
    }
   ],
   "source": [
    "SingleLinkedList<Integer> myLinkedList = new SingleLinkedList<Integer>();\n",
    "myLinkedList.addNode(1);\n",
    "myLinkedList.head.data; // 1\n",
    "myLinkedList.addNode(2);\n",
    "myLinkedList.head.next.data; // 2"
   ]
  },
  {
   "cell_type": "markdown",
   "id": "36310ede",
   "metadata": {},
   "source": [
    "### 링크드 리스트 데이터 출력하기"
   ]
  },
  {
   "cell_type": "code",
   "execution_count": 18,
   "id": "c1b48fdf",
   "metadata": {},
   "outputs": [],
   "source": [
    "public class SingleLinkedList<T>{\n",
    "    public Node<T> head = null;\n",
    "    \n",
    "    public class Node<T> {\n",
    "        T data;\n",
    "        Node<T> next = null;\n",
    "    \n",
    "        public Node(T data){\n",
    "            this.data = data;\n",
    "        }\n",
    "    }\n",
    "\n",
    "    public void addNode(T data){\n",
    "        if (head == null){\n",
    "            head = new Node<T>(data);\n",
    "        } else {\n",
    "            Node<T> node = this.head;\n",
    "            while (node.next != null){\n",
    "                node = node.next;\n",
    "            }\n",
    "            node.next =new Node<T>(data);\n",
    "        }\n",
    "    }\n",
    "    \n",
    "    public void print(){\n",
    "        if (head != null){\n",
    "            Node<T> node = this.head;\n",
    "            System.out.println(node.data);\n",
    "            while(node.next != null){\n",
    "                node = node.next;\n",
    "                System.out.println(node.data);\n",
    "            }\n",
    "        }\n",
    "    }\n",
    "}"
   ]
  },
  {
   "cell_type": "code",
   "execution_count": 20,
   "id": "0e7763b5",
   "metadata": {},
   "outputs": [
    {
     "name": "stdout",
     "output_type": "stream",
     "text": [
      "1\n",
      "5\n",
      "10\n"
     ]
    }
   ],
   "source": [
    "SingleLinkedList<Integer> myLinkedList = new SingleLinkedList<Integer>();\n",
    "myLinkedList.addNode(1);\n",
    "myLinkedList.addNode(5);\n",
    "myLinkedList.addNode(10);\n",
    "\n",
    "myLinkedList.print();"
   ]
  },
  {
   "cell_type": "markdown",
   "id": "4c4bea7e",
   "metadata": {},
   "source": [
    "### LinkedList 장점과 단점\n",
    "- 장점\n",
    "    - 미리 데이터 공간을 할당하지 않아도됨\n",
    "- 단점\n",
    "    - 저장공간 효율이 높지않고 정보를 찾는 시간이 필요해 접근 속도가 느림\n",
    "    - 중간 데이터 삭제시, 앞뒤 데이터의 연결을 재구성해야함"
   ]
  },
  {
   "cell_type": "markdown",
   "id": "2cb94b4b",
   "metadata": {},
   "source": [
    "### 1.LinkedList의 유지관리\n",
    "- 링크드 리스트는 유지관리에 부가적인 구현이 필요함 ex) LinkedList 사이에 데이터를 추가해보기"
   ]
  },
  {
   "cell_type": "code",
   "execution_count": 35,
   "id": "0139fe38",
   "metadata": {},
   "outputs": [],
   "source": [
    "public class SingleLinkedList<T>{\n",
    "    public Node<T> head = null;\n",
    "    \n",
    "    public class Node<T> {\n",
    "        T data;\n",
    "        Node<T> next = null;\n",
    "    \n",
    "        public Node(T data){\n",
    "            this.data = data;\n",
    "        }\n",
    "    }\n",
    "\n",
    "    public void addNode(T data){\n",
    "        if (head == null){\n",
    "            head = new Node<T>(data);\n",
    "        } else {\n",
    "            Node<T> node = this.head;\n",
    "            while (node.next != null){\n",
    "                node = node.next;\n",
    "            }\n",
    "            node.next =new Node<T>(data);\n",
    "        }\n",
    "    }\n",
    "    \n",
    "    public void print(){\n",
    "        if (head != null){\n",
    "            Node<T> node = this.head;\n",
    "            System.out.println(node.data);\n",
    "            while(node.next != null){\n",
    "                node = node.next;\n",
    "                System.out.println(node.data);\n",
    "            }\n",
    "        }\n",
    "    }\n",
    "    \n",
    "    public Node<T> search(T data){\n",
    "        if (this.head == null){\n",
    "            return null;\n",
    "        } else {\n",
    "            Node<T> node = this.head;\n",
    "            while(node != null){\n",
    "                if (node.data == data){\n",
    "                    return node;\n",
    "                } else {\n",
    "                    node = node.next;\n",
    "                }\n",
    "            }\n",
    "            return null;\n",
    "        }\n",
    "    }\n",
    "    \n",
    "    public void addNodeInside(T data, T isData){\n",
    "        Node<T> searchedNode = this.search(isData);\n",
    "        \n",
    "        if (searchedNode == null) {\n",
    "            this.addNode(data);\n",
    "        } else{\n",
    "            Node<T> nextNode = searchedNode.next;\n",
    "            searchedNode.next = new Node<T>(data);\n",
    "            searchedNode.next.next = nextNode;\n",
    "        }\n",
    "    }\n",
    "}"
   ]
  },
  {
   "cell_type": "code",
   "execution_count": 36,
   "id": "1e092120",
   "metadata": {},
   "outputs": [
    {
     "name": "stdout",
     "output_type": "stream",
     "text": [
      "1\n",
      "5\n",
      "10\n"
     ]
    }
   ],
   "source": [
    "SingleLinkedList<Integer> myLinkedList = new SingleLinkedList<Integer>();\n",
    "myLinkedList.addNode(1);\n",
    "myLinkedList.addNode(5);\n",
    "myLinkedList.addNode(10);\n",
    "\n",
    "myLinkedList.print();"
   ]
  },
  {
   "cell_type": "code",
   "execution_count": 37,
   "id": "548a28dc",
   "metadata": {},
   "outputs": [
    {
     "name": "stdout",
     "output_type": "stream",
     "text": [
      "1\n",
      "5\n",
      "5\n",
      "10\n"
     ]
    }
   ],
   "source": [
    "myLinkedList.addNodeInside(5, 1);\n",
    "myLinkedList.print();"
   ]
  },
  {
   "cell_type": "code",
   "execution_count": 38,
   "id": "0cc144fc",
   "metadata": {},
   "outputs": [
    {
     "name": "stdout",
     "output_type": "stream",
     "text": [
      "1\n",
      "5\n",
      "5\n",
      "10\n",
      "6\n"
     ]
    }
   ],
   "source": [
    "myLinkedList.addNodeInside(6, 10);\n",
    "myLinkedList.print();"
   ]
  },
  {
   "cell_type": "markdown",
   "id": "f4882dae",
   "metadata": {},
   "source": [
    "### 2.LinkedList의 유지관리\n",
    "- 링크드 리스트는 유지관리에 부가적인 구현이 필요함 ex) LinkedList에서 데이터 삭제\n",
    "1. head 삭제\n",
    "2. 마지막 노드 삭제\n",
    "3. 중간 노드 삭제"
   ]
  },
  {
   "cell_type": "code",
   "execution_count": 42,
   "id": "248a0d57",
   "metadata": {},
   "outputs": [],
   "source": [
    "public class SingleLinkedList<T>{\n",
    "    public Node<T> head = null;\n",
    "    \n",
    "    public class Node<T> {\n",
    "        T data;\n",
    "        Node<T> next = null;\n",
    "    \n",
    "        public Node(T data){\n",
    "            this.data = data;\n",
    "        }\n",
    "    }\n",
    "\n",
    "    public void addNode(T data){\n",
    "        if (head == null){\n",
    "            head = new Node<T>(data);\n",
    "        } else {\n",
    "            Node<T> node = this.head;\n",
    "            while (node.next != null){\n",
    "                node = node.next;\n",
    "            }\n",
    "            node.next =new Node<T>(data);\n",
    "        }\n",
    "    }\n",
    "    \n",
    "    public void print(){\n",
    "        if (head != null){\n",
    "            Node<T> node = this.head;\n",
    "            System.out.println(node.data);\n",
    "            while(node.next != null){\n",
    "                node = node.next;\n",
    "                System.out.println(node.data);\n",
    "            }\n",
    "        }\n",
    "    }\n",
    "    \n",
    "    public Node<T> search(T data){\n",
    "        if (this.head == null){\n",
    "            return null;\n",
    "        } else {\n",
    "            Node<T> node = this.head;\n",
    "            while(node != null){\n",
    "                if (node.data == data){\n",
    "                    return node;\n",
    "                } else {\n",
    "                    node = node.next;\n",
    "                }\n",
    "            }\n",
    "            return null;\n",
    "        }\n",
    "    }\n",
    "    \n",
    "    public void addNodeInside(T data, T isData){\n",
    "        Node<T> searchedNode = this.search(isData);\n",
    "        \n",
    "        if (searchedNode == null) {\n",
    "            this.addNode(data);\n",
    "        } else{\n",
    "            Node<T> nextNode = searchedNode.next;\n",
    "            searchedNode.next = new Node<T>(data);\n",
    "            searchedNode.next.next = nextNode;\n",
    "        }\n",
    "    }\n",
    "    \n",
    "    public Boolean delNode(T isData){\n",
    "        if(this.head == null){\n",
    "            return false;\n",
    "        } else {\n",
    "            Node<T> node = this.head;\n",
    "            if(node.data == isData){\n",
    "                this.head = this.head.next;\n",
    "                return true;\n",
    "            } else {\n",
    "                while (node.next != null){\n",
    "                    if (node.next.data == isData){\n",
    "                        node.next = node.next.next;\n",
    "                        return true;\n",
    "                    }\n",
    "                    node = node.next;\n",
    "                }\n",
    "                return false;\n",
    "            }\n",
    "        }\n",
    "    }\n",
    "}"
   ]
  },
  {
   "cell_type": "code",
   "execution_count": 44,
   "id": "49997625",
   "metadata": {},
   "outputs": [
    {
     "name": "stdout",
     "output_type": "stream",
     "text": [
      "1\n",
      "5\n",
      "10\n",
      "20\n",
      "50\n"
     ]
    }
   ],
   "source": [
    "SingleLinkedList<Integer> myLinkedList = new SingleLinkedList<Integer>();\n",
    "myLinkedList.addNode(1);\n",
    "myLinkedList.addNode(5);\n",
    "myLinkedList.addNode(10);\n",
    "myLinkedList.addNode(20);\n",
    "myLinkedList.addNode(50);\n",
    "\n",
    "myLinkedList.print();"
   ]
  },
  {
   "cell_type": "code",
   "execution_count": 46,
   "id": "eea4ac23",
   "metadata": {},
   "outputs": [
    {
     "name": "stdout",
     "output_type": "stream",
     "text": [
      "1\n",
      "5\n",
      "20\n",
      "50\n"
     ]
    }
   ],
   "source": [
    "myLinkedList.delNode(10);\n",
    "myLinkedList.print();"
   ]
  },
  {
   "cell_type": "code",
   "execution_count": 48,
   "id": "2d5c1ca9",
   "metadata": {},
   "outputs": [
    {
     "name": "stdout",
     "output_type": "stream",
     "text": [
      "5\n",
      "20\n",
      "50\n"
     ]
    }
   ],
   "source": [
    "myLinkedList.delNode(1);\n",
    "myLinkedList.print();"
   ]
  },
  {
   "cell_type": "code",
   "execution_count": 50,
   "id": "46de02c3",
   "metadata": {},
   "outputs": [
    {
     "name": "stdout",
     "output_type": "stream",
     "text": [
      "5\n",
      "20\n"
     ]
    }
   ],
   "source": [
    "myLinkedList.delNode(50);\n",
    "myLinkedList.print();"
   ]
  },
  {
   "cell_type": "code",
   "execution_count": 53,
   "id": "33c763b1",
   "metadata": {},
   "outputs": [
    {
     "data": {
      "text/plain": [
       "false"
      ]
     },
     "execution_count": 53,
     "metadata": {},
     "output_type": "execute_result"
    }
   ],
   "source": [
    "myLinkedList.delNode(3);"
   ]
  },
  {
   "cell_type": "markdown",
   "id": "11a7dcbd",
   "metadata": {},
   "source": [
    "### 다양한 LinkedList 구조\n",
    "- double LinkedList\n",
    "    - 이중 연결 리스트\n",
    "    - 장점 : 양방향으로 연결되어있어서 노드 탐색이 양방향으로 가능하다."
   ]
  },
  {
   "cell_type": "code",
   "execution_count": 55,
   "id": "2137bb88",
   "metadata": {},
   "outputs": [],
   "source": [
    "public class DoubleLinkedList<T> {\n",
    "    public Node<T> head = null;\n",
    "    public Node<T> tail = null;\n",
    "    \n",
    "     public class Node<T> {\n",
    "        T data;\n",
    "        Node<T> prev = null;\n",
    "        Node<T> next = null;\n",
    "    \n",
    "        public Node(T data){\n",
    "            this.data = data;\n",
    "        }\n",
    "    }\n",
    "\n",
    "    public void addNode(T data){\n",
    "        if (head == null){\n",
    "            head = new Node<T>(data);\n",
    "            this.tail = this.head;\n",
    "        } else {\n",
    "            Node<T> node = this.head;\n",
    "            while (node.next != null){\n",
    "                node = node.next;\n",
    "            }\n",
    "            node.next = new Node<T>(data);\n",
    "            node.next.prev = node; // 양방향을 위해 다음 노드의 앞주소에 현재 노드 등록\n",
    "            this.tail = node.next;\n",
    "        }\n",
    "    }\n",
    "    \n",
    "    public void print(){\n",
    "        if (head != null){\n",
    "            Node<T> node = this.head;\n",
    "            System.out.println(node.data);\n",
    "            while(node.next != null){\n",
    "                node = node.next;\n",
    "                System.out.println(node.data);\n",
    "            }\n",
    "        }\n",
    "    }\n",
    "}"
   ]
  },
  {
   "cell_type": "code",
   "execution_count": 58,
   "id": "50fea36b",
   "metadata": {},
   "outputs": [
    {
     "name": "stdout",
     "output_type": "stream",
     "text": [
      "1\n",
      "5\n",
      "10\n",
      "20\n",
      "50\n"
     ]
    }
   ],
   "source": [
    "DoubleLinkedList<Integer> myLinkedList = new DoubleLinkedList<Integer>();\n",
    "myLinkedList.addNode(1);\n",
    "myLinkedList.addNode(5);\n",
    "myLinkedList.addNode(10);\n",
    "myLinkedList.addNode(20);\n",
    "myLinkedList.addNode(50);\n",
    "\n",
    "myLinkedList.print();"
   ]
  },
  {
   "cell_type": "markdown",
   "id": "51b5c0a8",
   "metadata": {},
   "source": [
    "### DoubleLinkedList에서 탐색 구현"
   ]
  },
  {
   "cell_type": "code",
   "execution_count": 64,
   "id": "e4ba1462",
   "metadata": {},
   "outputs": [],
   "source": [
    "public class DoubleLinkedList<T> {\n",
    "    public Node<T> head = null;\n",
    "    public Node<T> tail = null;\n",
    "    \n",
    "     public class Node<T> {\n",
    "        T data;\n",
    "        Node<T> prev = null;\n",
    "        Node<T> next = null;\n",
    "    \n",
    "        public Node(T data){\n",
    "            this.data = data;\n",
    "        }\n",
    "    }\n",
    "\n",
    "    public void addNode(T data){\n",
    "        if (head == null){\n",
    "            head = new Node<T>(data);\n",
    "            this.tail = this.head;\n",
    "        } else {\n",
    "            Node<T> node = this.head;\n",
    "            while (node.next != null){\n",
    "                node = node.next;\n",
    "            }\n",
    "            node.next = new Node<T>(data);\n",
    "            node.next.prev = node; // 양방향을 위해 다음 노드의 앞주소에 현재 노드 등록\n",
    "            this.tail = node.next;\n",
    "        }\n",
    "    }\n",
    "    \n",
    "    public void print(){\n",
    "        if (head != null){\n",
    "            Node<T> node = this.head;\n",
    "            System.out.println(node.data);\n",
    "            while(node.next != null){\n",
    "                node = node.next;\n",
    "                System.out.println(node.data);\n",
    "            }\n",
    "        }\n",
    "    }\n",
    "    \n",
    "    public T searchFromHead(T isData){\n",
    "        if (this.head == null){\n",
    "            return null;\n",
    "        } else {\n",
    "            Node<T> node = this.head;\n",
    "            while (node != null){\n",
    "                if (node.data == isData){\n",
    "                return node.data;\n",
    "                } else{\n",
    "                    node = node.next;\n",
    "                }\n",
    "            }\n",
    "            return null;\n",
    "        }\n",
    "    }\n",
    "    \n",
    "    public T searchFromTail(T isData){\n",
    "        if (this.head == null){\n",
    "            return null;\n",
    "        } else {\n",
    "            Node<T> node = this.tail;\n",
    "            while (node != null){\n",
    "                if (node.data == isData){\n",
    "                return node.data;\n",
    "                } else{\n",
    "                    node = node.prev;\n",
    "                }\n",
    "            }\n",
    "            return null;\n",
    "        }        \n",
    "    }\n",
    "}"
   ]
  },
  {
   "cell_type": "code",
   "execution_count": 66,
   "id": "3355d5aa",
   "metadata": {},
   "outputs": [
    {
     "name": "stdout",
     "output_type": "stream",
     "text": [
      "1\n",
      "5\n",
      "10\n",
      "20\n",
      "50\n"
     ]
    }
   ],
   "source": [
    "DoubleLinkedList<Integer> myLinkedList = new DoubleLinkedList<Integer>();\n",
    "myLinkedList.addNode(1);\n",
    "myLinkedList.addNode(5);\n",
    "myLinkedList.addNode(10);\n",
    "myLinkedList.addNode(20);\n",
    "myLinkedList.addNode(50);\n",
    "\n",
    "myLinkedList.print();"
   ]
  },
  {
   "cell_type": "code",
   "execution_count": 67,
   "id": "1ea4c221",
   "metadata": {},
   "outputs": [
    {
     "data": {
      "text/plain": [
       "1"
      ]
     },
     "execution_count": 67,
     "metadata": {},
     "output_type": "execute_result"
    }
   ],
   "source": [
    "myLinkedList.searchFromHead(1);"
   ]
  },
  {
   "cell_type": "code",
   "execution_count": 69,
   "id": "d2a9e220",
   "metadata": {},
   "outputs": [
    {
     "data": {
      "text/plain": [
       "1"
      ]
     },
     "execution_count": 69,
     "metadata": {},
     "output_type": "execute_result"
    }
   ],
   "source": [
    "myLinkedList.searchFromTail(1);"
   ]
  },
  {
   "cell_type": "code",
   "execution_count": 72,
   "id": "983a241a",
   "metadata": {},
   "outputs": [
    {
     "data": {
      "text/plain": [
       "50"
      ]
     },
     "execution_count": 72,
     "metadata": {},
     "output_type": "execute_result"
    }
   ],
   "source": [
    "myLinkedList.searchFromTail(50);"
   ]
  },
  {
   "cell_type": "markdown",
   "id": "49ae7693",
   "metadata": {},
   "source": [
    "### 데이터 임의 노드 앞에 노드 추가하기"
   ]
  },
  {
   "cell_type": "code",
   "execution_count": 94,
   "id": "a0b0856a",
   "metadata": {},
   "outputs": [],
   "source": [
    "public class DoubleLinkedList<T> {\n",
    "\n",
    "    public static void main(String[] args){\n",
    "        DoubleLinkedList<Integer> myLinkedList = new DoubleLinkedList<Integer>();\n",
    "        \n",
    "        myLinkedList.addNode(1);\n",
    "        myLinkedList.addNode(5);\n",
    "        myLinkedList.addNode(10);\n",
    "        myLinkedList.addNode(20);\n",
    "        myLinkedList.addNode(50);\n",
    "        myLinkedList.print();\n",
    "        System.out.println(\"---------------------\");\n",
    "        \n",
    "        myLinkedList.insertToFront(10,5);\n",
    "        myLinkedList.print();\n",
    "        System.out.println(\"---------------------\");\n",
    "        \n",
    "        myLinkedList.insertToFront(60,35);\n",
    "        myLinkedList.insertToFront(1,0);\n",
    "        myLinkedList.print();\n",
    "        System.out.println(\"---------------------\");\n",
    "        \n",
    "        myLinkedList.addNode(60);\n",
    "        myLinkedList.print();\n",
    "    }\n",
    "    public Node<T> head = null;\n",
    "    public Node<T> tail = null;\n",
    "    \n",
    "     public class Node<T> {\n",
    "        T data;\n",
    "        Node<T> prev = null;\n",
    "        Node<T> next = null;\n",
    "    \n",
    "        public Node(T data){\n",
    "            this.data = data;\n",
    "        }\n",
    "    }\n",
    "\n",
    "    public void addNode(T data){\n",
    "        if (head == null){\n",
    "            head = new Node<T>(data);\n",
    "            this.tail = this.head;\n",
    "        } else {\n",
    "            Node<T> node = this.head;\n",
    "            while (node.next != null){\n",
    "                node = node.next;\n",
    "            }\n",
    "            node.next = new Node<T>(data);\n",
    "            node.next.prev = node; // 양방향을 위해 다음 노드의 앞주소에 현재 노드 등록\n",
    "            this.tail = node.next;\n",
    "        }\n",
    "    }\n",
    "    \n",
    "    public void print(){\n",
    "        if (head != null){\n",
    "            Node<T> node = this.head;\n",
    "            System.out.println(node.data);\n",
    "            while(node.next != null){\n",
    "                node = node.next;\n",
    "                System.out.println(node.data);\n",
    "            }\n",
    "        }\n",
    "    }\n",
    "    \n",
    "    public T searchFromHead(T isData){\n",
    "        if (this.head == null){\n",
    "            return null;\n",
    "        } else {\n",
    "            Node<T> node = this.head;\n",
    "            while (node != null){\n",
    "                if (node.data == isData){\n",
    "                return node.data;\n",
    "                } else{\n",
    "                    node = node.next;\n",
    "                }\n",
    "            }\n",
    "            return null;\n",
    "        }\n",
    "    }\n",
    "    \n",
    "    public T searchFromTail(T isData){\n",
    "        if (this.head == null){\n",
    "            return null;\n",
    "        } else {\n",
    "            Node<T> node = this.tail;\n",
    "            while (node != null){\n",
    "                if (node.data == isData){\n",
    "                return node.data;\n",
    "                } else{\n",
    "                    node = node.prev;\n",
    "                }\n",
    "            }\n",
    "            return null;\n",
    "        }        \n",
    "    }\n",
    "    \n",
    "    public boolean insertToFront(T existedData, T addData){\n",
    "        if (this.head == null){\n",
    "            this.head = new Node<T>(addData);\n",
    "            this.tail = this.head;\n",
    "            return true;\n",
    "        } else if (this.head.data == existedData){ \n",
    "            Node<T> newHead = new Node<T>(addData);\n",
    "            newHead.next = this.head;\n",
    "            this.head = newHead;\n",
    "            this.head.next.prev = this.head;\n",
    "            return true;\n",
    "        } else {\n",
    "            Node<T> node = this.head;\n",
    "            while (node != null){\n",
    "                if (node.data == existedData) {\n",
    "                    Node<T> nodePrev = node.prev;\n",
    "                \n",
    "                    nodePrev.next = new Node<T>(addData);\n",
    "                    nodePrev.next.next = node;\n",
    "                    \n",
    "                    nodePrev.next.prev = nodePrev;\n",
    "                    node.prev = nodePrev.next;\n",
    "                    return true;\n",
    "                } else{\n",
    "                    node = node.next;\n",
    "                }\n",
    "            }\n",
    "            return false;\n",
    "        }\n",
    "    }\n",
    "}"
   ]
  },
  {
   "cell_type": "code",
   "execution_count": 95,
   "id": "6bafdb62",
   "metadata": {},
   "outputs": [
    {
     "name": "stdout",
     "output_type": "stream",
     "text": [
      "1\n",
      "5\n",
      "10\n",
      "20\n",
      "50\n",
      "---------------------\n",
      "1\n",
      "5\n",
      "5\n",
      "10\n",
      "20\n",
      "50\n",
      "---------------------\n",
      "0\n",
      "1\n",
      "5\n",
      "5\n",
      "10\n",
      "20\n",
      "50\n",
      "---------------------\n",
      "0\n",
      "1\n",
      "5\n",
      "5\n",
      "10\n",
      "20\n",
      "50\n",
      "60\n"
     ]
    }
   ],
   "source": [
    "DoubleLinkedList<Integer> doubleLink = new DoubleLinkedList<Integer>();\n",
    "doubleLink.main(new String[0]);"
   ]
  }
 ],
 "metadata": {
  "kernelspec": {
   "display_name": "Java",
   "language": "java",
   "name": "java"
  },
  "language_info": {
   "codemirror_mode": "java",
   "file_extension": ".jshell",
   "mimetype": "text/x-java-source",
   "name": "Java",
   "pygments_lexer": "java",
   "version": "18.0.1+10-24"
  }
 },
 "nbformat": 4,
 "nbformat_minor": 5
}
