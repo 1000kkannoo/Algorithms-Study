{
 "cells": [
  {
   "cell_type": "markdown",
   "id": "1d996bf0",
   "metadata": {},
   "source": [
    "### 해쉬 테이블 (Hash Table)\n",
    "\n",
    "1. 해쉬구조\n",
    "- Key에 Value를 저장하는 데이터 구조\n",
    "- Key를 통해 바로 데이터를 받아올 수 있으므로, 속도가 훨씬 빨라진다.\n",
    "- 파이썬의 딕셔너리라는 구조가 해쉬 테이블의 예임\n",
    "\n",
    "2. 용어\n",
    "- 해쉬(hash) : 임의 값을 고정 길이로 변환하는 것\n",
    "- 해쉬 테이블(hash table) : 키 값의 연산에 의해 직접 접근이 가능한 데이터 구조\n",
    "- 해싱 함수(hashing function) : key에 대해 산술 연산을 이용해 데이터 위치를 찾을 수 있는 함수\n",
    "- 해쉬 값 또는 해쉬 주소 : key를 해싱 함수로 연산 및 값을 알아낸후 key에 대한 데이터 위치를 일관성인게 탐색\n",
    "- 슬롯(slot) : 한개의 데이터를 저장할 수 있는 공간\n",
    "- 저장할 데이터에 대해 Key를 추출할 수 있는 별도 함수도 존재할 수 있다."
   ]
  },
  {
   "cell_type": "markdown",
   "id": "d2118504",
   "metadata": {},
   "source": [
    "### Hash Table 클래스 생성"
   ]
  },
  {
   "cell_type": "code",
   "execution_count": 3,
   "id": "031bf2f0",
   "metadata": {},
   "outputs": [],
   "source": [
    "public class MyHash {\n",
    "    public Slot[] hashTable;\n",
    "    \n",
    "    public MyHash(Integer size){\n",
    "        this.hashTable = new Slot[size];\n",
    "    }\n",
    "    \n",
    "    public class Slot{\n",
    "        String value;\n",
    "        Slot(String value){\n",
    "            this.value = value;\n",
    "        }\n",
    "    }\n",
    "}"
   ]
  },
  {
   "cell_type": "markdown",
   "id": "3faf9132",
   "metadata": {},
   "source": [
    "### 간단한 해쉬 함수 생성\n",
    "- Division 기법 : 나누기를 통해 나머지 값 사용하기 "
   ]
  },
  {
   "cell_type": "code",
   "execution_count": 9,
   "id": "d8477205",
   "metadata": {},
   "outputs": [
    {
     "data": {
      "text/plain": [
       "8"
      ]
     },
     "execution_count": 9,
     "metadata": {},
     "output_type": "execute_result"
    }
   ],
   "source": [
    "String name = \"Dev_HyunWoo\";\n",
    "name.charAt(5); // 문자\n",
    "(int)(name.charAt(0)); // 아스키 코드\n",
    "(int)(name.charAt(0)) % 20 // 임의로 해시함수 생성 -> 해쉬주소출력 "
   ]
  },
  {
   "cell_type": "code",
   "execution_count": 10,
   "id": "3f097981",
   "metadata": {},
   "outputs": [],
   "source": [
    "public class MyHash {\n",
    "    public Slot[] hashTable;\n",
    "    \n",
    "    public MyHash(Integer size) {\n",
    "        this.hashTable = new Slot[size];\n",
    "    }\n",
    "    \n",
    "    public class Slot {\n",
    "        String value;\n",
    "        Slot(String value) {\n",
    "            this.value = value;\n",
    "        }\n",
    "    }\n",
    "    \n",
    "    // 해쉬함수 추가\n",
    "    public int hashFunc(String key) {\n",
    "        return (int)(key.charAt(0)) % this.hashTable.length;\n",
    "    }\n",
    "}"
   ]
  },
  {
   "cell_type": "code",
   "execution_count": 13,
   "id": "f2485fd2",
   "metadata": {},
   "outputs": [
    {
     "name": "stdout",
     "output_type": "stream",
     "text": [
      "REPL.$JShell$27$Slot@20641923\n",
      "hello\n"
     ]
    }
   ],
   "source": [
    "public class Slot {\n",
    "    String value;\n",
    "    Slot(String value) {\n",
    "        this.value = value;\n",
    "    }\n",
    "}\n",
    "\n",
    "Slot[] hashTable = new Slot[20];\n",
    "hashTable[0] = new Slot(\"hello\");\n",
    "System.out.println(hashTable[0]);\n",
    "System.out.println(hashTable[0].value);"
   ]
  },
  {
   "cell_type": "code",
   "execution_count": 15,
   "id": "65be5f0c",
   "metadata": {},
   "outputs": [],
   "source": [
    "public class MyHash {\n",
    "    public Slot[] hashTable;\n",
    "    \n",
    "    public MyHash(Integer size) {\n",
    "        this.hashTable = new Slot[size];\n",
    "    }\n",
    "    \n",
    "    public class Slot {\n",
    "        String value;\n",
    "        Slot(String value) {\n",
    "            this.value = value;\n",
    "        }\n",
    "    }\n",
    "    \n",
    "    // 해쉬함수 추가\n",
    "    public int hashFunc(String key) {\n",
    "        return (int)(key.charAt(0)) % this.hashTable.length;\n",
    "    }\n",
    "    \n",
    "    // 데이터를 저장하는 메서드 추가\n",
    "    public boolean saveData(String key, String value){\n",
    "        Integer address = this.hashFunc(key);\n",
    "        if (this.hashTable[address] != null){\n",
    "            this.hashTable[address].value = value;\n",
    "        } else {\n",
    "            this.hashTable[address] = new Slot(value);\n",
    "        }\n",
    "        return true;\n",
    "    }\n",
    "}"
   ]
  },
  {
   "cell_type": "markdown",
   "id": "8ae11178",
   "metadata": {},
   "source": [
    "### 해쉬 테이블에 데이터 저장부터 조회 -> 하지만 해당 알고리즘은 문제가 있음!"
   ]
  },
  {
   "cell_type": "code",
   "execution_count": 3,
   "id": "9c3dff51",
   "metadata": {},
   "outputs": [],
   "source": [
    "public class MyHash {\n",
    "    public Slot[] hashTable;\n",
    "    \n",
    "    public MyHash(Integer size) {\n",
    "        this.hashTable = new Slot[size];\n",
    "    }\n",
    "    \n",
    "    public class Slot {\n",
    "        String value;\n",
    "        Slot(String value) {\n",
    "            this.value = value;\n",
    "        }\n",
    "    }\n",
    "    \n",
    "    // 해쉬함수 추가\n",
    "    public int hashFunc(String key) {\n",
    "        return (int)(key.charAt(0)) % this.hashTable.length;\n",
    "    }\n",
    "    \n",
    "    // 데이터를 저장하는 메서드 추가\n",
    "    public boolean saveData(String key, String value){\n",
    "        Integer address = this.hashFunc(key);\n",
    "        if (this.hashTable[address] != null){\n",
    "            this.hashTable[address].value = value;\n",
    "        } else {\n",
    "            this.hashTable[address] = new Slot(value);\n",
    "        }\n",
    "        return true;\n",
    "    }\n",
    "    \n",
    "    // 데이터를 가져오는 메서드 추가\n",
    "    public String getData(String key){\n",
    "        Integer address = this.hashFunc(key);\n",
    "        if (this.hashTable[address] != null) {\n",
    "            return this.hashTable[address].value;\n",
    "        } else {\n",
    "            return null;\n",
    "        }\n",
    "    }\n",
    "}"
   ]
  },
  {
   "cell_type": "code",
   "execution_count": 4,
   "id": "9a1c8865",
   "metadata": {},
   "outputs": [
    {
     "data": {
      "text/plain": [
       "01012345679"
      ]
     },
     "execution_count": 4,
     "metadata": {},
     "output_type": "execute_result"
    }
   ],
   "source": [
    "MyHash mainObject = new MyHash(20);\n",
    "mainObject.saveData(\"DevHyunWoo\", \"01012345678\");\n",
    "mainObject.saveData(\"DevJangMin\", \"01012345679\");\n",
    "\n",
    "mainObject.getData(\"DevHyunWoo\");"
   ]
  },
  {
   "cell_type": "markdown",
   "id": "9dc8f352",
   "metadata": {},
   "source": [
    "### 자료구조 HashTable 장단점 \n",
    "- 장점\n",
    "    - 데이터를 저장하고 읽는 속도가 빠르다.\n",
    "    - 해쉬는 키에 대한 데이터 (중복) 확인이 쉽다.\n",
    "- 단점\n",
    "    - 더 많은 저장공간을 필요로 함\n",
    "    - 여러 키에 해당하는 주소가 동일할 경우 충돌을 해결하기 위한 별도 자료구조가 필요하다.\n",
    "\n",
    "-> 캐쉬구현 / 많은 검색 / 저장 삭제 읽기가 빈번한경우"
   ]
  },
  {
   "cell_type": "markdown",
   "id": "923de704",
   "metadata": {},
   "source": [
    "### 해쉬 충돌 (Hash Collision) 해결하기\n",
    "- Chaining 기법\n",
    "- Linear Probing 기법"
   ]
  },
  {
   "cell_type": "code",
   "execution_count": 6,
   "id": "0f2bf182",
   "metadata": {},
   "outputs": [],
   "source": [
    "// Chaining 기법 사용 - LinkedList를 사용해 데이터를 추가로 뒤에 연결시켜서 저장\n",
    "\n",
    "public class MyHash {\n",
    "    public Slot[] hashTable;\n",
    "    \n",
    "    public MyHash(Integer size) {\n",
    "        this.hashTable = new Slot[size];\n",
    "    }\n",
    "    \n",
    "    public class Slot {\n",
    "        String key;\n",
    "        String value;\n",
    "        Slot next;\n",
    "        Slot(String key, String value) {\n",
    "            this.key = key;\n",
    "            this.value = value;\n",
    "            this.next = next;\n",
    "        }\n",
    "    }\n",
    "    \n",
    "    // 해쉬함수 추가\n",
    "    public int hashFunc(String key) {\n",
    "        return (int)(key.charAt(0)) % this.hashTable.length;\n",
    "    }\n",
    "    \n",
    "    // 데이터를 저장하는 메서드 추가\n",
    "    public boolean saveData(String key, String value){\n",
    "        Integer address = this.hashFunc(key);\n",
    "        if (this.hashTable[address] != null){\n",
    "            Slot findSlot = this.hashTable[address];\n",
    "            Slot prevSlot = this.hashTable[address];\n",
    "            while (findSlot != null) {\n",
    "                if (findSlot.key == key) {\n",
    "                    findSlot.value = value;\n",
    "                    return true;\n",
    "                } else {\n",
    "                prevSlot = findSlot;\n",
    "                findSlot = findSlot.next;\n",
    "                }\n",
    "            }\n",
    "        prevSlot.next = new Slot(key, value);\n",
    "    } else {\n",
    "        this.hashTable[address] = new Slot(key, value);\n",
    "    }\n",
    "    return true;\n",
    "}\n",
    "    \n",
    "    // 데이터를 가져오는 메서드 추가\n",
    "    public String getData(String key){\n",
    "        Integer address = this.hashFunc(key);\n",
    "        if (this.hashTable[address] != null) {\n",
    "            Slot findSlot = this.hashTable[address];\n",
    "            while (findSlot != null) {\n",
    "                if (findSlot.key == key) {\n",
    "                    return findSlot.value;\n",
    "                } else {\n",
    "                    findSlot = findSlot.next;\n",
    "                }\n",
    "            }\n",
    "            return null;\n",
    "        } else {\n",
    "            return null;\n",
    "        }\n",
    "    }\n",
    "}"
   ]
  },
  {
   "cell_type": "code",
   "execution_count": 9,
   "id": "0d306698",
   "metadata": {},
   "outputs": [
    {
     "data": {
      "text/plain": [
       "01012345679"
      ]
     },
     "execution_count": 9,
     "metadata": {},
     "output_type": "execute_result"
    }
   ],
   "source": [
    "MyHash mainObject = new MyHash(20);\n",
    "mainObject.saveData(\"DevHyunWoo\", \"01012345678\");\n",
    "mainObject.saveData(\"DevJangMin\", \"01012345679\");\n",
    "mainObject.saveData(\"DevHyunSoo\", \"01012345679\");\n",
    "mainObject.saveData(\"Devjinseock\", \"01012345679\");\n",
    "\n",
    "mainObject.getData(\"DevJangMin\");"
   ]
  },
  {
   "cell_type": "code",
   "execution_count": 22,
   "id": "7a32e706",
   "metadata": {},
   "outputs": [],
   "source": [
    "// Linear Probing 기법 -> 충돌이 일어나면 다음 address부터 맨 처음 나오는 빈공간에 저장하는 기법\n",
    "\n",
    "public class MyHash {\n",
    "    public Slot[] hashTable;\n",
    "    \n",
    "    public MyHash(Integer size) {\n",
    "        this.hashTable = new Slot[size];\n",
    "    }\n",
    "    \n",
    "    public class Slot {\n",
    "        String key;\n",
    "        String value;\n",
    "        Slot(String key, String value) {\n",
    "            this.key = key;\n",
    "            this.value = value;\n",
    "        }\n",
    "    }\n",
    "    \n",
    "    // 해쉬함수 추가\n",
    "    public int hashFunc(String key) {\n",
    "        return (int)(key.charAt(0)) % this.hashTable.length;\n",
    "    }\n",
    "    \n",
    "    // 데이터를 저장하는 메서드 추가\n",
    "    public boolean saveData(String key, String value){\n",
    "        Integer address = this.hashFunc(key);\n",
    "        if (this.hashTable[address] != null){\n",
    "            if (this.hashTable[address].key == key) {\n",
    "                this.hashTable[address].value = value;\n",
    "                return true;\n",
    "            } else {\n",
    "            Integer currAddress = address + 1;\n",
    "            while (this.hashTable[currAddress] != null) {\n",
    "                if (this.hashTable[currAddress].key == key){\n",
    "                    this.hashTable[currAddress].value = value;\n",
    "                    return true;\n",
    "                } else {\n",
    "                    currAddress++;\n",
    "                    if (currAddress >= this.hashTable.length) {\n",
    "                        return false;\n",
    "                    }\n",
    "                }\n",
    "            }\n",
    "            this.hashTable[currAddress] = new Slot(key, value);\n",
    "            return true;\n",
    "            }\n",
    "        } else {\n",
    "           this.hashTable[address] = new Slot(key, value);\n",
    "        }\n",
    "        return true;\n",
    "    }\n",
    "    \n",
    "    // 데이터를 가져오는 메서드 추가\n",
    "    public String getData(String key){\n",
    "        Integer address = this.hashFunc(key);\n",
    "        if (this.hashTable[address] != null) {\n",
    "            if (this.hashTable[address].key == key) {\n",
    "            return this.hashTable[address].value;\n",
    "            } else {\n",
    "                Integer currAddress = address;\n",
    "                while (this.hashTable[currAddress] != null) {\n",
    "                    if (this.hashTable[currAddress].key == key){\n",
    "                        return this.hashTable[currAddress].value;\n",
    "                    } else {\n",
    "                        currAddress++;\n",
    "                        if (currAddress >= this.hashTable.length) {\n",
    "                            return null;\n",
    "                        }\n",
    "                    }\n",
    "                }\n",
    "                return null;\n",
    "            }\n",
    "        } else {\n",
    "            return null;\n",
    "        }\n",
    "    }\n",
    "}"
   ]
  },
  {
   "cell_type": "code",
   "execution_count": 26,
   "id": "4444ae9a",
   "metadata": {},
   "outputs": [
    {
     "data": {
      "text/plain": [
       "01012345610"
      ]
     },
     "execution_count": 26,
     "metadata": {},
     "output_type": "execute_result"
    }
   ],
   "source": [
    "MyHash mainObject = new MyHash(20);\n",
    "mainObject.saveData(\"DevHyunWoo\", \"01012345678\");\n",
    "mainObject.saveData(\"DevJangMin\", \"01012345679\");\n",
    "mainObject.saveData(\"DevHyunSoo\", \"01012345610\");\n",
    "mainObject.saveData(\"Devjinseock\", \"01012345679\");\n",
    "\n",
    "mainObject.getData(\"DevHyunSoo\");"
   ]
  },
  {
   "cell_type": "markdown",
   "id": "7f44dc04",
   "metadata": {},
   "source": [
    "### 충돌 개선하기 "
   ]
  },
  {
   "cell_type": "code",
   "execution_count": 29,
   "id": "f8a79f3c",
   "metadata": {},
   "outputs": [
    {
     "data": {
      "text/plain": [
       "129"
      ]
     },
     "execution_count": 29,
     "metadata": {},
     "output_type": "execute_result"
    }
   ],
   "source": [
    "// 해쉬 함수를 재정의하고 테이블의 저장공간을 확대하기\n",
    "\n",
    "String name = \"HyunWoo\";\n",
    "int key = 0;\n",
    "for (int i = 0; i < name.length(); i++) {\n",
    "key += name.charAt(i);\n",
    "}\n",
    "\n",
    "(int)(key) % 200"
   ]
  },
  {
   "cell_type": "markdown",
   "id": "fe134fa0",
   "metadata": {},
   "source": [
    "### JAVA_HashMap"
   ]
  },
  {
   "cell_type": "code",
   "execution_count": 35,
   "id": "390d47d9",
   "metadata": {},
   "outputs": [
    {
     "name": "stdout",
     "output_type": "stream",
     "text": [
      "현서\n",
      "그저그래\n"
     ]
    }
   ],
   "source": [
    "// 해쉬 테이블 구조를 활용하여 구현된 JAVA Collection Framework에 속한 클래스 활용\n",
    "\n",
    "HashMap<Integer, String> map1 = new HashMap();\n",
    "map1.put(1,\"현우\");\n",
    "map1.put(2,\"현수\");\n",
    "map1.put(3,\"현서\");\n",
    "\n",
    "HashMap<String,String> map2 = new HashMap();\n",
    "map2.put(\"과자\",\"맛있어\");\n",
    "map2.put(\"시금치\",\"그저그래\");\n",
    "map2.put(\"돼지고기\", \"짱꿀맛\");\n",
    "\n",
    "System.out.println(map1.get(3));\n",
    "System.out.println(map2.get(\"시금치\"));"
   ]
  },
  {
   "cell_type": "markdown",
   "id": "1d94ab0e",
   "metadata": {},
   "source": [
    "### 시간복잡도  "
   ]
  },
  {
   "cell_type": "markdown",
   "id": "ac0ff989",
   "metadata": {},
   "source": [
    "- 일반적인 경우 O(1)\n",
    "- 최악의 경우 O(n)\n",
    "- Linear Probing, Chaining 기법 둘다 동일하다.\n",
    "\n",
    "-> 해쉬테이블의 경우 일반적인 경우를 기대하고 작성\n",
    "\n",
    "ex) 배열에 데이터를 저장하고 검색할때 O(n)\n",
    "ex) 이상적인 해쉬 테이블 케이스에서 데이터를 검색할때 O(1)"
   ]
  }
 ],
 "metadata": {
  "kernelspec": {
   "display_name": "Java",
   "language": "java",
   "name": "java"
  },
  "language_info": {
   "codemirror_mode": "java",
   "file_extension": ".jshell",
   "mimetype": "text/x-java-source",
   "name": "Java",
   "pygments_lexer": "java",
   "version": "18.0.1+10-24"
  }
 },
 "nbformat": 4,
 "nbformat_minor": 5
}
