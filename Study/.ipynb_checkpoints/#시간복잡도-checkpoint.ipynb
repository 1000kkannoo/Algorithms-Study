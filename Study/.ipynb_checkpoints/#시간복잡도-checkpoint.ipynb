{
 "cells": [
  {
   "cell_type": "markdown",
   "id": "1afd0f07",
   "metadata": {},
   "source": [
    "### 알고리즘 복잡도 계산\n",
    "- 하나의 문제를 푸는 알고리즘은 다양할 수 있다\n",
    "    - 만약 정수의 절대값 구한다고 했을때\n",
    "        - 1 : 정수값을 제곱한 값에 다시 루트\n",
    "        - 2 : 정수가 음수인지 확인, 음수일때만 -1 곱하기\n",
    "        \n",
    "다양한 알고리즘 중 어느 알고리즘이 더 좋은지 분석하기위해 복잡도를 정의하고 계싼함\n",
    "\n",
    "- 알고리즘 복잡도 계산 항목\n",
    "    - 시간 복잡도 : 알고리즘 실행 속도\n",
    "    - 공간 복잡도 : 알고리즘이 사용하는 메모리 사이즈\n",
    "\n",
    "- 알고리즘 식단 복잡도의 주요 요소\n",
    "    - 반복문이 지배\n",
    "    \n",
    "### 알고리즘 성능 표기법\n",
    "\n",
    "- Big O 표기법\n",
    "    - 알고리즘 최악의 실행 시간을 표기\n",
    "    - 가장 많이/일반적으로 사용한다.\n",
    "    - 아무리 최악의 상황이라도, 최소 성능은 보장한다는 의미\n",
    "\n",
    "### 대문자 O 표기법\n",
    "- Big-O 표기법\n",
    "- O(입력)\n",
    "- O가 상수회 실행할때, O(1)\n",
    "- n에따라 n번, n + 10 번 등 실행될때, O(n)\n",
    "- n에따라 n * n번 과 같이 제곱으로 실행될때, O(n*n)"
   ]
  },
  {
   "cell_type": "markdown",
   "id": "90c68f84",
   "metadata": {},
   "source": [
    "### 1부터 n까지의 합을 구하는 알고리즘 1"
   ]
  },
  {
   "cell_type": "code",
   "execution_count": 8,
   "id": "b65d1178",
   "metadata": {},
   "outputs": [],
   "source": [
    "public class Main {\n",
    "    public int sum(int n){\n",
    "        int total = 0;\n",
    "        for (int i = 1; i <= n; i++){\n",
    "            total += i;\n",
    "        }\n",
    "        return total;\n",
    "    }\n",
    "}"
   ]
  },
  {
   "cell_type": "code",
   "execution_count": 9,
   "id": "61421c65",
   "metadata": {},
   "outputs": [
    {
     "data": {
      "text/plain": [
       "5050"
      ]
     },
     "execution_count": 9,
     "metadata": {},
     "output_type": "execute_result"
    }
   ],
   "source": [
    "Main mainObject = new Main();\n",
    "mainObject.sum(100);"
   ]
  },
  {
   "cell_type": "markdown",
   "id": "21632b30",
   "metadata": {},
   "source": [
    "### 1부터 n까지의 합을 구하는 알고리즘 2"
   ]
  },
  {
   "cell_type": "code",
   "execution_count": 5,
   "id": "de5c0de0",
   "metadata": {},
   "outputs": [],
   "source": [
    "public class Main{\n",
    "    public int sum(int n){\n",
    "        return n * (n + 1) / 2;\n",
    "    }\n",
    "}"
   ]
  },
  {
   "cell_type": "code",
   "execution_count": 10,
   "id": "f690d984",
   "metadata": {},
   "outputs": [
    {
     "data": {
      "text/plain": [
       "55"
      ]
     },
     "execution_count": 10,
     "metadata": {},
     "output_type": "execute_result"
    }
   ],
   "source": [
    "Main mainObject = new Main();\n",
    "mainObject.sum(10);"
   ]
  },
  {
   "cell_type": "markdown",
   "id": "3a2dbb43",
   "metadata": {},
   "source": [
    "### 시간복잡도 구하기\n",
    "- 첫번째 알고리즘은 O(n) -> 반복문이 있음!\n",
    "- 두번째 알고리즘은 O(1) -> 반복문이 없음!\n",
    "    - 즉 두번째 알고리즘이 더 성능이 좋다고 증명할 수 있음."
   ]
  }
 ],
 "metadata": {
  "kernelspec": {
   "display_name": "Java",
   "language": "java",
   "name": "java"
  },
  "language_info": {
   "codemirror_mode": "java",
   "file_extension": ".jshell",
   "mimetype": "text/x-java-source",
   "name": "Java",
   "pygments_lexer": "java",
   "version": "18.0.1+10-24"
  }
 },
 "nbformat": 4,
 "nbformat_minor": 5
}
