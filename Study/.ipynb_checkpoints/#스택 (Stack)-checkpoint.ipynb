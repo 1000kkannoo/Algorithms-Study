{
 "cells": [
  {
   "cell_type": "markdown",
   "id": "0761a10a",
   "metadata": {},
   "source": [
    "### 스택 (Stack)\n",
    "\n",
    "- 데이터를 제한적으로 접근하는 구조\n",
    "- 가장 나중에 쌓은 데이터를 가장 먼저 빼낼 수 있는 구조\n",
    "\n",
    "Queue : FIFO\n",
    "Stack : LIFO 또는 FILO 데이터 관리 방식을 따른다.\n",
    "\n",
    "- push() : 데이터를 스택에 넣는다.\n",
    "- pop() : 데이터를 스택에서 꺼낸다.\n",
    "\n",
    "### 스택 구조 / 프로세스 스택\n",
    "- 스택 구조는 프로세스 실행 구조의 가장 기본이다!\n",
    "- 재귀함수를 통한 프로세스 스택 구조 이해\n",
    "\n",
    "### 자료 구조 스택의 장단점\n",
    "- 장점\n",
    "    - 구조가 단순/구현이 쉬움\n",
    "    - 데이터 저장/읽기 속도가 빠름\n",
    "- 단점\n",
    "    - 데이터 최대 갯수를 미리 정해야함\n",
    "    - 저장공간의 낭비가 발생할 수 있음\n",
    "        - 미리 최대 갯수만큼 저장 공간을 확보\n",
    "### JAVA\n",
    "- java.util에서 Stack 클래스 제공\n",
    "    - push : 아이템을 stack에 추가\n",
    "    - pop : Stack에서 마지막에 넣은 아이템 return 및 해당 아이템 삭제"
   ]
  },
  {
   "cell_type": "code",
   "execution_count": 5,
   "id": "b876e1e8",
   "metadata": {},
   "outputs": [
    {
     "data": {
      "text/plain": [
       "5"
      ]
     },
     "execution_count": 5,
     "metadata": {},
     "output_type": "execute_result"
    }
   ],
   "source": [
    "Stack<Integer> stackInt = new Stack<Integer>();\n",
    "\n",
    "stackInt.push(5);\n",
    "stackInt.push(8);\n",
    "stackInt.push(15);\n",
    "\n",
    "stackInt.pop(); // 15\n",
    "stackInt.pop(); // 8\n",
    "stackInt.pop(); // 5"
   ]
  },
  {
   "cell_type": "markdown",
   "id": "6f4dc086",
   "metadata": {},
   "source": [
    "### 연습문제"
   ]
  },
  {
   "cell_type": "code",
   "execution_count": 9,
   "id": "e1d599c4",
   "metadata": {},
   "outputs": [],
   "source": [
    "public class MyStack<T>{\n",
    "    ArrayList<T> stack = new ArrayList<T>();\n",
    "    \n",
    "    public void push(T item){\n",
    "        stack.add(item);\n",
    "    }\n",
    "    \n",
    "    public T pop(){\n",
    "        if(stack.isEmpty()){\n",
    "            return null;\n",
    "        }\n",
    "        return stack.remove(stack.size() - 1);\n",
    "    }\n",
    "    \n",
    "    public static void main(String[] args){\n",
    "        MyStack<Integer> myStack = new MyStack<Integer>();\n",
    "        myStack.push(1);\n",
    "        myStack.push(2);\n",
    "        System.out.println(myStack.pop()); // 2\n",
    "        myStack.push(15);\n",
    "        System.out.println(myStack.pop()); // 15\n",
    "        System.out.println(myStack.pop()); // 1\n",
    "    }\n",
    "}"
   ]
  },
  {
   "cell_type": "code",
   "execution_count": 10,
   "id": "9830eb48",
   "metadata": {},
   "outputs": [
    {
     "name": "stdout",
     "output_type": "stream",
     "text": [
      "2\n",
      "15\n",
      "1\n"
     ]
    }
   ],
   "source": [
    "MyStack.main(new String[0]);"
   ]
  }
 ],
 "metadata": {
  "kernelspec": {
   "display_name": "Java",
   "language": "java",
   "name": "java"
  },
  "language_info": {
   "codemirror_mode": "java",
   "file_extension": ".jshell",
   "mimetype": "text/x-java-source",
   "name": "Java",
   "pygments_lexer": "java",
   "version": "18.0.1+10-24"
  }
 },
 "nbformat": 4,
 "nbformat_minor": 5
}
