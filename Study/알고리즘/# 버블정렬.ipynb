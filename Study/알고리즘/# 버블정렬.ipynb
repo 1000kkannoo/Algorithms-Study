{
 "cells": [
  {
   "cell_type": "markdown",
   "id": "ddfebdac",
   "metadata": {},
   "source": [
    "# 알고리즘을 익히는 이유\n",
    "\n",
    "- 가장 잘 만들어진 알고리즘을 똑같이 만들어보고 이해함으로써 알고리즘을 잘 만드는, 새로운 문제를 해결하는 역량을 기르기 위함\n",
    "- 한마디로 모사하는 것"
   ]
  },
  {
   "cell_type": "markdown",
   "id": "93e58200",
   "metadata": {},
   "source": [
    "## 정렬(Sorting) 이란?\n",
    "- 어떤 데이터들이 주어졌을 때 이를 정해진 순서대로 나열하는 것\n",
    "- 정렬은 프로그램 작성시 빈번하게 필요로 함"
   ]
  },
  {
   "cell_type": "markdown",
   "id": "028710ea",
   "metadata": {},
   "source": [
    "### 버블정렬(bubble Sorting)에 대해서\n",
    "- 두 인접한 데이터를 비교해서, 앞에 있는 데이터가 뒤에 있는 데이터보다 크면, 자리를 바꾸는 정렬 알고리즘"
   ]
  },
  {
   "cell_type": "code",
   "execution_count": null,
   "id": "7d8fbbcb",
   "metadata": {},
   "outputs": [],
   "source": []
  }
 ],
 "metadata": {
  "kernelspec": {
   "display_name": "Java",
   "language": "java",
   "name": "java"
  },
  "language_info": {
   "codemirror_mode": "java",
   "file_extension": ".jshell",
   "mimetype": "text/x-java-source",
   "name": "Java",
   "pygments_lexer": "java",
   "version": "18.0.1+10-24"
  }
 },
 "nbformat": 4,
 "nbformat_minor": 5
}
