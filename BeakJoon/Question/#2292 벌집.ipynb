{
 "cells": [
  {
   "cell_type": "code",
   "execution_count": 1,
   "id": "701d1179",
   "metadata": {},
   "outputs": [],
   "source": [
    "import java.io.BufferedReader;\n",
    "import java.io.InputStreamReader;\n",
    "import java.io.IOException;\n",
    "\n",
    "public class Main {\n",
    "    public static void main(String[] args) throws IOException {\n",
    "        BufferedReader br = new BufferedReader(new InputStreamReader(System.in));\n",
    "        int N = Integer.parseInt(br.readLine());\n",
    "        int cnt = 1;\n",
    "        int value = 2;\n",
    "        \n",
    "        if (N == 1){\n",
    "            System.out.println(1);\n",
    "        } else {\n",
    "            while(value <= N){\n",
    "                value = value + (6 * cnt);\n",
    "                cnt++;\n",
    "            }\n",
    "            System.out.println(cnt);\n",
    "        }\n",
    "    }\n",
    "}"
   ]
  },
  {
   "cell_type": "code",
   "execution_count": 2,
   "id": "e7f6e3a6",
   "metadata": {},
   "outputs": [
    {
     "name": "stdout",
     "output_type": "stream",
     "text": [
      "19\n",
      "3\n"
     ]
    }
   ],
   "source": [
    "Main.main(new String[0])"
   ]
  }
 ],
 "metadata": {
  "kernelspec": {
   "display_name": "Java",
   "language": "java",
   "name": "java"
  },
  "language_info": {
   "codemirror_mode": "java",
   "file_extension": ".jshell",
   "mimetype": "text/x-java-source",
   "name": "Java",
   "pygments_lexer": "java",
   "version": "18.0.1+10-24"
  }
 },
 "nbformat": 4,
 "nbformat_minor": 5
}
