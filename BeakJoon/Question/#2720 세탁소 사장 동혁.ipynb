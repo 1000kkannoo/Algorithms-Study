{
 "cells": [
  {
   "cell_type": "code",
   "execution_count": 73,
   "id": "6835b7fe",
   "metadata": {},
   "outputs": [],
   "source": [
    "import java.io.BufferedReader;\n",
    "import java.io.InputStreamReader;\n",
    "import java.io.IOException;\n",
    "\n",
    "public class Main {\n",
    "    public static void main(String[] args) throws IOException{\n",
    "        BufferedReader br = new BufferedReader(new InputStreamReader(System.in));\n",
    "        int n = Integer.parseInt(br.readLine());\n",
    "        \n",
    "        int a = 0;\n",
    "        int b = 0;\n",
    "        int c = 0;\n",
    "        int d = 0;\n",
    "        \n",
    "        for (int i = 0; i < n; i++){\n",
    "            \n",
    "            int money = Integer.parseInt(br.readLine());\n",
    "            \n",
    "            a = money / 25;\n",
    "            money = money % 25;\n",
    "            \n",
    "            b = money / 10;\n",
    "            money = money % 10;\n",
    "            \n",
    "            c = money / 5;\n",
    "            money = money % 5;\n",
    "            \n",
    "            d = money / 1;\n",
    "            \n",
    "            System.out.println(a + \" \" + b + \" \" + c + \" \" + d);\n",
    "        }\n",
    "    }\n",
    "}"
   ]
  },
  {
   "cell_type": "code",
   "execution_count": 74,
   "id": "ea69708f",
   "metadata": {},
   "outputs": [
    {
     "name": "stdout",
     "output_type": "stream",
     "text": [
      "3\n",
      "124\n",
      "4 2 0 4\n",
      "25\n",
      "1 0 0 0\n",
      "194\n",
      "7 1 1 4\n"
     ]
    }
   ],
   "source": [
    "Main.main(new String[0]);"
   ]
  }
 ],
 "metadata": {
  "kernelspec": {
   "display_name": "Java",
   "language": "java",
   "name": "java"
  },
  "language_info": {
   "codemirror_mode": "java",
   "file_extension": ".jshell",
   "mimetype": "text/x-java-source",
   "name": "Java",
   "pygments_lexer": "java",
   "version": "18.0.1+10-24"
  }
 },
 "nbformat": 4,
 "nbformat_minor": 5
}
