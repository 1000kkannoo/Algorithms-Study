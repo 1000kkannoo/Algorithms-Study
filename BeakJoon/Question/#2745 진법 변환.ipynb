{
 "cells": [
  {
   "cell_type": "code",
   "execution_count": 13,
   "id": "c40b2a6e",
   "metadata": {},
   "outputs": [],
   "source": [
    "import java.io.BufferedReader;\n",
    "import java.io.InputStreamReader;\n",
    "import java.io.IOException;\n",
    "import java.util.StringTokenizer;\n",
    "\n",
    "public class Main {\n",
    "    public static void main(String[] args) throws IOException {\n",
    "        BufferedReader br = new BufferedReader(new InputStreamReader(System.in));\n",
    "        StringTokenizer stk = new StringTokenizer(br.readLine());\n",
    "        String n = stk.nextToken();\n",
    "        int b = Integer.parseInt(stk.nextToken());\n",
    "        \n",
    "        int ans = 0;\n",
    "        for(int i = 0; i < n.length(); i++){\n",
    "            if('0' <= n.charAt(i) && '9' >= n.charAt(i)){\n",
    "                ans = ans * b + ((int)n.charAt(i) - (int)'0');\n",
    "            } \n",
    "            else {\n",
    "                ans = ans * b + ((int)n.charAt(i) - (int)'A' + 10);\n",
    "            }\n",
    "        }\n",
    "        System.out.println(ans);\n",
    "    }\n",
    "}"
   ]
  },
  {
   "cell_type": "code",
   "execution_count": 14,
   "id": "1a623c11",
   "metadata": {},
   "outputs": [
    {
     "name": "stdout",
     "output_type": "stream",
     "text": [
      "12345 36\n",
      "1776965\n"
     ]
    }
   ],
   "source": [
    "Main.main(new String[0]);"
   ]
  }
 ],
 "metadata": {
  "kernelspec": {
   "display_name": "Java",
   "language": "java",
   "name": "java"
  },
  "language_info": {
   "codemirror_mode": "java",
   "file_extension": ".jshell",
   "mimetype": "text/x-java-source",
   "name": "Java",
   "pygments_lexer": "java",
   "version": "18.0.1+10-24"
  }
 },
 "nbformat": 4,
 "nbformat_minor": 5
}
