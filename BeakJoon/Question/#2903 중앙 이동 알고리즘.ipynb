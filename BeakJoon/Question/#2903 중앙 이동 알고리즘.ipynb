{
 "cells": [
  {
   "cell_type": "code",
   "execution_count": 31,
   "id": "444861d9",
   "metadata": {},
   "outputs": [],
   "source": [
    "import java.io.BufferedReader;\n",
    "import java.io.IOException;\n",
    "import java.io.InputStreamReader;\n",
    "\n",
    "public class Main {\n",
    "    public static void main(String[] args) throws IOException{\n",
    "        BufferedReader br = new BufferedReader(new InputStreamReader(System.in));\n",
    "        \n",
    "        int N = Integer.parseInt(br.readLine());\n",
    "        \n",
    "        int start = 3;\n",
    "        \n",
    "        for(int i = 1; i < N; i++){\n",
    "            start += start - 1;\n",
    "        }\n",
    "        \n",
    "        System.out.println(start * start);\n",
    "    }\n",
    "}"
   ]
  },
  {
   "cell_type": "code",
   "execution_count": 32,
   "id": "7f961bd2",
   "metadata": {},
   "outputs": [
    {
     "name": "stdout",
     "output_type": "stream",
     "text": [
      "5\n",
      "1089\n"
     ]
    }
   ],
   "source": [
    "Main.main(new String[0]);"
   ]
  }
 ],
 "metadata": {
  "kernelspec": {
   "display_name": "Java",
   "language": "java",
   "name": "java"
  },
  "language_info": {
   "codemirror_mode": "java",
   "file_extension": ".jshell",
   "mimetype": "text/x-java-source",
   "name": "Java",
   "pygments_lexer": "java",
   "version": "18.0.1+10-24"
  }
 },
 "nbformat": 4,
 "nbformat_minor": 5
}
