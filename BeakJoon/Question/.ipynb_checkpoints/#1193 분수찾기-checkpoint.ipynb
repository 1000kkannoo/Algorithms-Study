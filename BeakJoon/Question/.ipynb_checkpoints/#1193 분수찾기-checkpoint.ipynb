{
 "cells": [
  {
   "cell_type": "code",
   "execution_count": 9,
   "id": "ffa5afc2",
   "metadata": {},
   "outputs": [],
   "source": [
    "import java.io.BufferedReader;\n",
    "import java.io.IOException;\n",
    "import java.io.InputStreamReader;\n",
    "\n",
    "public class Main {\n",
    "    public static void main(String[] args) throws IOException {\n",
    "        BufferedReader br = new BufferedReader(new InputStreamReader(System.in));\n",
    "        int X = Integer.parseInt(br.readLine());\n",
    "        int line = 1;\n",
    "        \n",
    "        int a = 0;\n",
    "        int b = 0;\n",
    "        \n",
    "        while(X > line) {\n",
    "            X -= line;\n",
    "            line += 1;\n",
    "        }\n",
    "        \n",
    "        if (line % 2 == 0){\n",
    "            a = X;\n",
    "            b = line - X + 1;\n",
    "        } else {\n",
    "            a = line - X + 1;\n",
    "            b = X;\n",
    "        }\n",
    "        \n",
    "        System.out.println(a+\"/\"+b);\n",
    "    }\n",
    "}"
   ]
  },
  {
   "cell_type": "code",
   "execution_count": 10,
   "id": "2a5b56bd",
   "metadata": {},
   "outputs": [
    {
     "name": "stdout",
     "output_type": "stream",
     "text": [
      "5\n",
      "2/2\n"
     ]
    }
   ],
   "source": [
    "Main.main(new String[0])"
   ]
  }
 ],
 "metadata": {
  "kernelspec": {
   "display_name": "Java",
   "language": "java",
   "name": "java"
  },
  "language_info": {
   "codemirror_mode": "java",
   "file_extension": ".jshell",
   "mimetype": "text/x-java-source",
   "name": "Java",
   "pygments_lexer": "java",
   "version": "18.0.1+10-24"
  }
 },
 "nbformat": 4,
 "nbformat_minor": 5
}
