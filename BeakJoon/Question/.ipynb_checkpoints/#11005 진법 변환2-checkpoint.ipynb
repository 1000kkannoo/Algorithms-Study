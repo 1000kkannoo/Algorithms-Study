{
 "cells": [
  {
   "cell_type": "code",
   "execution_count": 13,
   "id": "a148e85c",
   "metadata": {},
   "outputs": [],
   "source": [
    "import java.io.BufferedReader;\n",
    "import java.io.InputStreamReader;\n",
    "import java.io.IOException;\n",
    "import java.util.StringTokenizer;\n",
    "\n",
    "public class Main {\n",
    "    public static void main(String[] args) throws IOException{\n",
    "        BufferedReader br = new BufferedReader(new InputStreamReader(System.in));\n",
    "        StringTokenizer stk = new StringTokenizer(br.readLine());\n",
    "        int n = Integer.parseInt(stk.nextToken());\n",
    "        int b = Integer.parseInt(stk.nextToken());\n",
    "        \n",
    "        String ans = \"\";\n",
    "        int rest;\n",
    "        \n",
    "        while (n > 0) {\n",
    "            rest = n % b;\n",
    "            \n",
    "            if (rest >= 10) {\n",
    "                ans += (char)(rest - 10 + (int)'A');\n",
    "            }\n",
    "            else {\n",
    "                ans += (char)(rest + (int)'0');\n",
    "            }\n",
    "            \n",
    "            n /= b;\n",
    "        }\n",
    "        for (int i = ans.length() - 1; i >= 0; i--) {\n",
    "            System.out.print(ans.charAt(i));\n",
    "        }\n",
    "    }\n",
    "}"
   ]
  },
  {
   "cell_type": "code",
   "execution_count": 14,
   "id": "322a0d6d",
   "metadata": {},
   "outputs": [
    {
     "name": "stdout",
     "output_type": "stream",
     "text": [
      "10 36\n",
      "AA"
     ]
    }
   ],
   "source": [
    "Main.main(new String[0]);"
   ]
  }
 ],
 "metadata": {
  "kernelspec": {
   "display_name": "Java",
   "language": "java",
   "name": "java"
  },
  "language_info": {
   "codemirror_mode": "java",
   "file_extension": ".jshell",
   "mimetype": "text/x-java-source",
   "name": "Java",
   "pygments_lexer": "java",
   "version": "18.0.1+10-24"
  }
 },
 "nbformat": 4,
 "nbformat_minor": 5
}
